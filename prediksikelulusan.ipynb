{
  "nbformat": 4,
  "nbformat_minor": 0,
  "metadata": {
    "colab": {
      "provenance": [],
      "name": "prediksikelulusan.ipynb",
      "authorship_tag": "ABX9TyOox+brzirXR3FoR/y2C9tn",
      "include_colab_link": true
    },
    "kernelspec": {
      "name": "python3",
      "display_name": "Python 3"
    },
    "language_info": {
      "name": "python"
    }
  },
  "cells": [
    {
      "cell_type": "markdown",
      "metadata": {
        "id": "view-in-github",
        "colab_type": "text"
      },
      "source": [
        "<a href=\"https://colab.research.google.com/github/Septiana2216/portofolio/blob/main/prediksikelulusan.ipynb\" target=\"_parent\"><img src=\"https://colab.research.google.com/assets/colab-badge.svg\" alt=\"Open In Colab\"/></a>"
      ]
    },
    {
      "cell_type": "code",
      "execution_count": null,
      "metadata": {
        "colab": {
          "base_uri": "https://localhost:8080/"
        },
        "id": "kKCkht32jBrK",
        "outputId": "7498f124-a0fb-4c0b-8b0f-690d183ff079"
      },
      "outputs": [
        {
          "output_type": "stream",
          "name": "stdout",
          "text": [
            "=== Logistic Regression ===\n",
            "Akurasi Model: 1.0\n",
            "Laporan Klasifikasi:\n",
            "               precision    recall  f1-score   support\n",
            "\n",
            "           0       1.00      1.00      1.00         1\n",
            "           1       1.00      1.00      1.00         1\n",
            "\n",
            "    accuracy                           1.00         2\n",
            "   macro avg       1.00      1.00      1.00         2\n",
            "weighted avg       1.00      1.00      1.00         2\n",
            "\n",
            "=== Naive Bayes ===\n",
            "Akurasi Model: 1.0\n",
            "Laporan Klasifikasi:\n",
            "               precision    recall  f1-score   support\n",
            "\n",
            "           0       1.00      1.00      1.00         1\n",
            "           1       1.00      1.00      1.00         1\n",
            "\n",
            "    accuracy                           1.00         2\n",
            "   macro avg       1.00      1.00      1.00         2\n",
            "weighted avg       1.00      1.00      1.00         2\n",
            "\n",
            "\n",
            "Prediksi Kelulusan (1=Lulus, 0=Tidak Lulus):\n",
            "Logistic Regression: 1\n",
            "Naive Bayes: 1\n"
          ]
        },
        {
          "output_type": "stream",
          "name": "stderr",
          "text": [
            "/usr/local/lib/python3.11/dist-packages/sklearn/utils/validation.py:2739: UserWarning: X does not have valid feature names, but LogisticRegression was fitted with feature names\n",
            "  warnings.warn(\n",
            "/usr/local/lib/python3.11/dist-packages/sklearn/utils/validation.py:2739: UserWarning: X does not have valid feature names, but GaussianNB was fitted with feature names\n",
            "  warnings.warn(\n"
          ]
        }
      ],
      "source": [
        "# Import library yang dibutuhkan\n",
        "import pandas as pd\n",
        "from sklearn.model_selection import train_test_split\n",
        "from sklearn.linear_model import LogisticRegression\n",
        "from sklearn.naive_bayes import GaussianNB\n",
        "from sklearn.metrics import accuracy_score, classification_report\n",
        "\n",
        "# ===============================\n",
        "# 1. Membuat Dataset\n",
        "# ===============================\n",
        "# Contoh dataset (bisa diganti dengan data nyata)\n",
        "data = {\n",
        "    'nilai_rata_rata': [80, 60, 75, 90, 50, 85, 70, 65],\n",
        "    'kehadiran':       [90, 70, 80, 95, 60, 85, 75, 65],\n",
        "    'tugas_selesai':   [8, 5, 7, 10, 4, 9, 6, 5],\n",
        "    'lulus':           [1, 0, 1, 1, 0, 1, 0, 0]  # 1 = Lulus, 0 = Tidak Lulus\n",
        "}\n",
        "\n",
        "# Mengubah data menjadi DataFrame\n",
        "df = pd.DataFrame(data)\n",
        "\n",
        "# ===============================\n",
        "# 2. Memisahkan fitur dan label\n",
        "# ===============================\n",
        "X = df[['nilai_rata_rata', 'kehadiran', 'tugas_selesai']]\n",
        "y = df['lulus']\n",
        "\n",
        "# Membagi data menjadi data latih dan data uji\n",
        "X_train, X_test, y_train, y_test = train_test_split(X, y, test_size=0.2, random_state=42)\n",
        "\n",
        "# ===============================\n",
        "# 3a. Model Logistic Regression\n",
        "# ===============================\n",
        "model_lr = LogisticRegression()\n",
        "model_lr.fit(X_train, y_train)\n",
        "y_pred_lr = model_lr.predict(X_test)\n",
        "\n",
        "# Evaluasi Logistic Regression\n",
        "print(\"=== Logistic Regression ===\")\n",
        "print(\"Akurasi Model:\", accuracy_score(y_test, y_pred_lr))\n",
        "print(\"Laporan Klasifikasi:\\n\", classification_report(y_test, y_pred_lr))\n",
        "\n",
        "# ===============================\n",
        "# 3b. Model Naive Bayes\n",
        "# ===============================\n",
        "model_nb = GaussianNB()\n",
        "model_nb.fit(X_train, y_train)\n",
        "y_pred_nb = model_nb.predict(X_test)\n",
        "\n",
        "# Evaluasi Naive Bayes\n",
        "print(\"=== Naive Bayes ===\")\n",
        "print(\"Akurasi Model:\", accuracy_score(y_test, y_pred_nb))\n",
        "print(\"Laporan Klasifikasi:\\n\", classification_report(y_test, y_pred_nb))\n",
        "\n",
        "# ===============================\n",
        "# 4. Contoh Prediksi Data Baru\n",
        "# ===============================\n",
        "# Misalnya: nilai rata-rata = 85, kehadiran = 90, tugas selesai = 9\n",
        "data_baru = [[85, 90, 9]]\n",
        "\n",
        "pred_lr = model_lr.predict(data_baru)\n",
        "pred_nb = model_nb.predict(data_baru)\n",
        "\n",
        "print(\"\\nPrediksi Kelulusan (1=Lulus, 0=Tidak Lulus):\")\n",
        "print(\"Logistic Regression:\", pred_lr[0])\n",
        "print(\"Naive Bayes:\", pred_nb[0])"
      ]
    }
  ]
}